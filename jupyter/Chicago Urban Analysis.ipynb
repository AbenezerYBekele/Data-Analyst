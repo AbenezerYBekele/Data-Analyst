{
 "cells": [
  {
   "cell_type": "markdown",
   "metadata": {},
   "source": [
    "# Chicago Socioeconomic and Crime Analysis\n",
    "## SQL-Based Data Exploration Project"
   ]
  },
  {
   "cell_type": "markdown",
   "metadata": {},
   "source": [
    "## Objective\n",
    "Analyze Chicago public datasets to identify correlations between socioeconomic factors, school performance, and crime statistics using SQLite.\n",
    "* Chicago Crime Data\n",
    "* Chicago Public Schools\n",
    "* Chicago Census Data\n"
   ]
  },
  {
   "cell_type": "markdown",
   "metadata": {},
   "source": [
    "### Skills Demonstrated:\n",
    "- **SQL Querying**: Complex database operations\n",
    "- **Data Cleaning**: Handling missing values, type conversions\n",
    "- **Data Analysis**: Statistical insights from multiple datasets\n",
    "- **Data Visualization**: Matplotlib/Seaborn visualizations\n",
    "- **Database Management**: SQLite database creation"
   ]
  },
  {
   "cell_type": "code",
   "execution_count": 19,
   "id": "c316cd18-018f-4700-a494-f19d8b0a84b7",
   "metadata": {},
   "outputs": [
    {
     "name": "stdout",
     "output_type": "stream",
     "text": [
      "Requirement already satisfied: pandas in c:\\users\\abiye\\ibm_env\\lib\\site-packages (2.2.3)\n",
      "Requirement already satisfied: numpy>=1.26.0 in c:\\users\\abiye\\ibm_env\\lib\\site-packages (from pandas) (2.2.6)\n",
      "Requirement already satisfied: python-dateutil>=2.8.2 in c:\\users\\abiye\\ibm_env\\lib\\site-packages (from pandas) (2.9.0.post0)\n",
      "Requirement already satisfied: pytz>=2020.1 in c:\\users\\abiye\\ibm_env\\lib\\site-packages (from pandas) (2025.2)\n",
      "Requirement already satisfied: tzdata>=2022.7 in c:\\users\\abiye\\ibm_env\\lib\\site-packages (from pandas) (2025.2)\n",
      "Requirement already satisfied: six>=1.5 in c:\\users\\abiye\\ibm_env\\lib\\site-packages (from python-dateutil>=2.8.2->pandas) (1.17.0)\n"
     ]
    },
    {
     "name": "stderr",
     "output_type": "stream",
     "text": [
      "\n",
      "[notice] A new release of pip is available: 24.3.1 -> 25.1.1\n",
      "[notice] To update, run: python.exe -m pip install --upgrade pip\n"
     ]
    },
    {
     "name": "stdout",
     "output_type": "stream",
     "text": [
      "Requirement already satisfied: ipython-sql in c:\\users\\abiye\\ibm_env\\lib\\site-packages (0.5.0)\n",
      "Requirement already satisfied: prettytable in c:\\users\\abiye\\ibm_env\\lib\\site-packages (3.16.0)\n",
      "Requirement already satisfied: ipython in c:\\users\\abiye\\ibm_env\\lib\\site-packages (from ipython-sql) (9.2.0)\n",
      "Requirement already satisfied: sqlalchemy>=2.0 in c:\\users\\abiye\\ibm_env\\lib\\site-packages (from ipython-sql) (2.0.41)\n",
      "Requirement already satisfied: sqlparse in c:\\users\\abiye\\ibm_env\\lib\\site-packages (from ipython-sql) (0.5.3)\n",
      "Requirement already satisfied: six in c:\\users\\abiye\\ibm_env\\lib\\site-packages (from ipython-sql) (1.17.0)\n",
      "Requirement already satisfied: ipython-genutils in c:\\users\\abiye\\ibm_env\\lib\\site-packages (from ipython-sql) (0.2.0)\n",
      "Requirement already satisfied: wcwidth in c:\\users\\abiye\\ibm_env\\lib\\site-packages (from prettytable) (0.2.13)\n",
      "Requirement already satisfied: greenlet>=1 in c:\\users\\abiye\\ibm_env\\lib\\site-packages (from sqlalchemy>=2.0->ipython-sql) (3.2.2)\n",
      "Requirement already satisfied: typing-extensions>=4.6.0 in c:\\users\\abiye\\ibm_env\\lib\\site-packages (from sqlalchemy>=2.0->ipython-sql) (4.13.2)\n",
      "Requirement already satisfied: colorama in c:\\users\\abiye\\ibm_env\\lib\\site-packages (from ipython->ipython-sql) (0.4.6)\n",
      "Requirement already satisfied: decorator in c:\\users\\abiye\\ibm_env\\lib\\site-packages (from ipython->ipython-sql) (5.2.1)\n",
      "Requirement already satisfied: ipython-pygments-lexers in c:\\users\\abiye\\ibm_env\\lib\\site-packages (from ipython->ipython-sql) (1.1.1)\n",
      "Requirement already satisfied: jedi>=0.16 in c:\\users\\abiye\\ibm_env\\lib\\site-packages (from ipython->ipython-sql) (0.19.2)\n",
      "Requirement already satisfied: matplotlib-inline in c:\\users\\abiye\\ibm_env\\lib\\site-packages (from ipython->ipython-sql) (0.1.7)\n",
      "Requirement already satisfied: prompt_toolkit<3.1.0,>=3.0.41 in c:\\users\\abiye\\ibm_env\\lib\\site-packages (from ipython->ipython-sql) (3.0.51)\n",
      "Requirement already satisfied: pygments>=2.4.0 in c:\\users\\abiye\\ibm_env\\lib\\site-packages (from ipython->ipython-sql) (2.19.1)\n",
      "Requirement already satisfied: stack_data in c:\\users\\abiye\\ibm_env\\lib\\site-packages (from ipython->ipython-sql) (0.6.3)\n",
      "Requirement already satisfied: traitlets>=5.13.0 in c:\\users\\abiye\\ibm_env\\lib\\site-packages (from ipython->ipython-sql) (5.14.3)\n",
      "Requirement already satisfied: parso<0.9.0,>=0.8.4 in c:\\users\\abiye\\ibm_env\\lib\\site-packages (from jedi>=0.16->ipython->ipython-sql) (0.8.4)\n",
      "Requirement already satisfied: executing>=1.2.0 in c:\\users\\abiye\\ibm_env\\lib\\site-packages (from stack_data->ipython->ipython-sql) (2.2.0)\n",
      "Requirement already satisfied: asttokens>=2.1.0 in c:\\users\\abiye\\ibm_env\\lib\\site-packages (from stack_data->ipython->ipython-sql) (3.0.0)\n",
      "Requirement already satisfied: pure-eval in c:\\users\\abiye\\ibm_env\\lib\\site-packages (from stack_data->ipython->ipython-sql) (0.2.3)\n"
     ]
    },
    {
     "name": "stderr",
     "output_type": "stream",
     "text": [
      "\n",
      "[notice] A new release of pip is available: 24.3.1 -> 25.1.1\n",
      "[notice] To update, run: python.exe -m pip install --upgrade pip\n"
     ]
    },
    {
     "name": "stdout",
     "output_type": "stream",
     "text": [
      "Requirement already satisfied: matplotlib in c:\\users\\abiye\\ibm_env\\lib\\site-packages (3.10.3)\n",
      "Requirement already satisfied: contourpy>=1.0.1 in c:\\users\\abiye\\ibm_env\\lib\\site-packages (from matplotlib) (1.3.2)\n",
      "Requirement already satisfied: cycler>=0.10 in c:\\users\\abiye\\ibm_env\\lib\\site-packages (from matplotlib) (0.12.1)\n",
      "Requirement already satisfied: fonttools>=4.22.0 in c:\\users\\abiye\\ibm_env\\lib\\site-packages (from matplotlib) (4.58.2)\n",
      "Requirement already satisfied: kiwisolver>=1.3.1 in c:\\users\\abiye\\ibm_env\\lib\\site-packages (from matplotlib) (1.4.8)\n",
      "Requirement already satisfied: numpy>=1.23 in c:\\users\\abiye\\ibm_env\\lib\\site-packages (from matplotlib) (2.2.6)\n",
      "Requirement already satisfied: packaging>=20.0 in c:\\users\\abiye\\ibm_env\\lib\\site-packages (from matplotlib) (25.0)\n",
      "Requirement already satisfied: pillow>=8 in c:\\users\\abiye\\ibm_env\\lib\\site-packages (from matplotlib) (11.2.1)\n",
      "Requirement already satisfied: pyparsing>=2.3.1 in c:\\users\\abiye\\ibm_env\\lib\\site-packages (from matplotlib) (3.2.3)\n",
      "Requirement already satisfied: python-dateutil>=2.7 in c:\\users\\abiye\\ibm_env\\lib\\site-packages (from matplotlib) (2.9.0.post0)\n",
      "Requirement already satisfied: six>=1.5 in c:\\users\\abiye\\ibm_env\\lib\\site-packages (from python-dateutil>=2.7->matplotlib) (1.17.0)\n"
     ]
    },
    {
     "name": "stderr",
     "output_type": "stream",
     "text": [
      "\n",
      "[notice] A new release of pip is available: 24.3.1 -> 25.1.1\n",
      "[notice] To update, run: python.exe -m pip install --upgrade pip\n"
     ]
    },
    {
     "name": "stdout",
     "output_type": "stream",
     "text": [
      "Requirement already satisfied: seaborn in c:\\users\\abiye\\ibm_env\\lib\\site-packages (0.13.2)\n",
      "Requirement already satisfied: numpy!=1.24.0,>=1.20 in c:\\users\\abiye\\ibm_env\\lib\\site-packages (from seaborn) (2.2.6)\n",
      "Requirement already satisfied: pandas>=1.2 in c:\\users\\abiye\\ibm_env\\lib\\site-packages (from seaborn) (2.2.3)\n",
      "Requirement already satisfied: matplotlib!=3.6.1,>=3.4 in c:\\users\\abiye\\ibm_env\\lib\\site-packages (from seaborn) (3.10.3)\n",
      "Requirement already satisfied: contourpy>=1.0.1 in c:\\users\\abiye\\ibm_env\\lib\\site-packages (from matplotlib!=3.6.1,>=3.4->seaborn) (1.3.2)\n",
      "Requirement already satisfied: cycler>=0.10 in c:\\users\\abiye\\ibm_env\\lib\\site-packages (from matplotlib!=3.6.1,>=3.4->seaborn) (0.12.1)\n",
      "Requirement already satisfied: fonttools>=4.22.0 in c:\\users\\abiye\\ibm_env\\lib\\site-packages (from matplotlib!=3.6.1,>=3.4->seaborn) (4.58.2)\n",
      "Requirement already satisfied: kiwisolver>=1.3.1 in c:\\users\\abiye\\ibm_env\\lib\\site-packages (from matplotlib!=3.6.1,>=3.4->seaborn) (1.4.8)\n",
      "Requirement already satisfied: packaging>=20.0 in c:\\users\\abiye\\ibm_env\\lib\\site-packages (from matplotlib!=3.6.1,>=3.4->seaborn) (25.0)\n",
      "Requirement already satisfied: pillow>=8 in c:\\users\\abiye\\ibm_env\\lib\\site-packages (from matplotlib!=3.6.1,>=3.4->seaborn) (11.2.1)\n",
      "Requirement already satisfied: pyparsing>=2.3.1 in c:\\users\\abiye\\ibm_env\\lib\\site-packages (from matplotlib!=3.6.1,>=3.4->seaborn) (3.2.3)\n",
      "Requirement already satisfied: python-dateutil>=2.7 in c:\\users\\abiye\\ibm_env\\lib\\site-packages (from matplotlib!=3.6.1,>=3.4->seaborn) (2.9.0.post0)\n",
      "Requirement already satisfied: pytz>=2020.1 in c:\\users\\abiye\\ibm_env\\lib\\site-packages (from pandas>=1.2->seaborn) (2025.2)\n",
      "Requirement already satisfied: tzdata>=2022.7 in c:\\users\\abiye\\ibm_env\\lib\\site-packages (from pandas>=1.2->seaborn) (2025.2)\n",
      "Requirement already satisfied: six>=1.5 in c:\\users\\abiye\\ibm_env\\lib\\site-packages (from python-dateutil>=2.7->matplotlib!=3.6.1,>=3.4->seaborn) (1.17.0)\n"
     ]
    },
    {
     "name": "stderr",
     "output_type": "stream",
     "text": [
      "\n",
      "[notice] A new release of pip is available: 24.3.1 -> 25.1.1\n",
      "[notice] To update, run: python.exe -m pip install --upgrade pip\n"
     ]
    }
   ],
   "source": [
    "!pip install pandas\n",
    "!pip install ipython-sql prettytable \n",
    "!pip install matplotlib\n",
    "!pip install seaborn\n",
    "\n",
    "import prettytable\n",
    "\n",
    "prettytable.DEFAULT = 'DEFAULT'"
   ]
  },
  {
   "cell_type": "code",
   "execution_count": 3,
   "id": "8505847a-b0ed-4b87-b169-309583e3dbcd",
   "metadata": {},
   "outputs": [],
   "source": [
    "import pandas as pd\n",
    "import sqlite3 as sqlite3"
   ]
  },
  {
   "cell_type": "code",
   "execution_count": 21,
   "metadata": {},
   "outputs": [],
   "source": [
    "import matplotlib.pyplot as plt\n",
    "import seaborn as sns"
   ]
  },
  {
   "cell_type": "code",
   "execution_count": 21,
   "metadata": {},
   "outputs": [],
   "source": [
    "%matplotlib inline\n",
    "sns.set(style=\"whitegrid\", palette=\"pastel\")\n"
   ]
  },
  {
   "cell_type": "code",
   "execution_count": 4,
   "metadata": {},
   "outputs": [],
   "source": [
    "%load_ext sql\n",
    "%sql sqlite:///FinalDB.db"
   ]
  },
  {
   "cell_type": "markdown",
   "id": "12c39c45-e8c9-4e90-b864-eadc43e84bf6",
   "metadata": {},
   "source": [
    "Use `Pandas` to load the data available in the links above to dataframes. Use these dataframes to load data on to the database `FinalDB.db` as required tables.\n"
   ]
  },
  {
   "cell_type": "code",
   "execution_count": 5,
   "id": "114f9e25-129a-4fe1-a775-69725f37020f",
   "metadata": {},
   "outputs": [
    {
     "name": "stdout",
     "output_type": "stream",
     "text": [
      "Data successfully loaded into FinalDB.db!\n"
     ]
    }
   ],
   "source": [
    "# Step 1: Load CSVs into DataFrames\n",
    "census_df = pd.read_csv(\"https://cf-courses-data.s3.us.cloud-object-storage.appdomain.cloud/IBMDeveloperSkillsNetwork-DB0201EN-SkillsNetwork/labs/FinalModule_Coursera_V5/data/ChicagoCensusData.csv\")\n",
    "schools_df = pd.read_csv(\"https://cf-courses-data.s3.us.cloud-object-storage.appdomain.cloud/IBMDeveloperSkillsNetwork-DB0201EN-SkillsNetwork/labs/FinalModule_Coursera_V5/data/ChicagoPublicSchools.csv\")\n",
    "crime_df = pd.read_csv(\"https://cf-courses-data.s3.us.cloud-object-storage.appdomain.cloud/IBMDeveloperSkillsNetwork-DB0201EN-SkillsNetwork/labs/FinalModule_Coursera_V5/data/ChicagoCrimeData.csv\")\n",
    "\n",
    "# Step 2: Connect to SQLite DB\n",
    "conn = sqlite3.connect('FinalDB.db')\n",
    "\n",
    "# Step 3: Load DataFrames into the database as tables\n",
    "census_df.to_sql(\"CENSUS_DATA\", conn, if_exists=\"replace\", index=False)\n",
    "schools_df.to_sql(\"SCHOOLS\", conn, if_exists=\"replace\", index=False)\n",
    "crime_df.to_sql(\"CRIME\", conn, if_exists=\"replace\", index=False)\n",
    "\n",
    "print(\"Data successfully loaded into FinalDB.db!\")"
   ]
  },
  {
   "cell_type": "code",
   "execution_count": 6,
   "id": "427a99cc-1280-400c-b820-a88419e9b156",
   "metadata": {},
   "outputs": [],
   "source": [
    "%sql sqlite:///FinalDB.db"
   ]
  },
  {
   "cell_type": "code",
   "execution_count": 7,
   "id": "1ae671a3-6314-4c27-8909-6212ddc61d60",
   "metadata": {},
   "outputs": [
    {
     "name": "stdout",
     "output_type": "stream",
     "text": [
      " * sqlite:///FinalDB.db\n",
      "Done.\n"
     ]
    },
    {
     "data": {
      "text/html": [
       "<table>\n",
       "    <thead>\n",
       "        <tr>\n",
       "            <th>total_crimes</th>\n",
       "        </tr>\n",
       "    </thead>\n",
       "    <tbody>\n",
       "        <tr>\n",
       "            <td>533</td>\n",
       "        </tr>\n",
       "    </tbody>\n",
       "</table>"
      ],
      "text/plain": [
       "[(533,)]"
      ]
     },
     "execution_count": 7,
     "metadata": {},
     "output_type": "execute_result"
    }
   ],
   "source": [
    "%sql SELECT COUNT(*) AS total_crimes FROM CRIME;"
   ]
  },
  {
   "cell_type": "code",
   "execution_count": 8,
   "id": "40706af1-d88e-41f3-8fc0-8df5a9197999",
   "metadata": {},
   "outputs": [
    {
     "name": "stdout",
     "output_type": "stream",
     "text": [
      " * sqlite:///FinalDB.db\n",
      "Done.\n"
     ]
    },
    {
     "data": {
      "text/html": [
       "<table>\n",
       "    <thead>\n",
       "        <tr>\n",
       "            <th>COMMUNITY_AREA_NUMBER</th>\n",
       "            <th>COMMUNITY_AREA_NAME</th>\n",
       "            <th>PER_CAPITA_INCOME</th>\n",
       "        </tr>\n",
       "    </thead>\n",
       "    <tbody>\n",
       "        <tr>\n",
       "            <td>26.0</td>\n",
       "            <td>West Garfield Park</td>\n",
       "            <td>10934</td>\n",
       "        </tr>\n",
       "        <tr>\n",
       "            <td>30.0</td>\n",
       "            <td>South Lawndale</td>\n",
       "            <td>10402</td>\n",
       "        </tr>\n",
       "        <tr>\n",
       "            <td>37.0</td>\n",
       "            <td>Fuller Park</td>\n",
       "            <td>10432</td>\n",
       "        </tr>\n",
       "        <tr>\n",
       "            <td>54.0</td>\n",
       "            <td>Riverdale</td>\n",
       "            <td>8201</td>\n",
       "        </tr>\n",
       "    </tbody>\n",
       "</table>"
      ],
      "text/plain": [
       "[(26.0, 'West Garfield Park', 10934),\n",
       " (30.0, 'South Lawndale', 10402),\n",
       " (37.0, 'Fuller Park', 10432),\n",
       " (54.0, 'Riverdale', 8201)]"
      ]
     },
     "execution_count": 8,
     "metadata": {},
     "output_type": "execute_result"
    }
   ],
   "source": [
    "%%sql\n",
    "SELECT COMMUNITY_AREA_NUMBER, COMMUNITY_AREA_NAME, PER_CAPITA_INCOME \n",
    "FROM CENSUS_DATA\n",
    "WHERE PER_CAPITA_INCOME < 11000;\n"
   ]
  },
  {
   "cell_type": "code",
   "execution_count": 9,
   "id": "031daefb-b146-4fd9-81df-074a011ca273",
   "metadata": {},
   "outputs": [
    {
     "name": "stdout",
     "output_type": "stream",
     "text": [
      " * sqlite:///FinalDB.db\n",
      "Done.\n"
     ]
    },
    {
     "data": {
      "text/html": [
       "<table>\n",
       "    <thead>\n",
       "        <tr>\n",
       "            <th>CASE_NUMBER</th>\n",
       "        </tr>\n",
       "    </thead>\n",
       "    <tbody>\n",
       "        <tr>\n",
       "            <td>HL266884</td>\n",
       "        </tr>\n",
       "        <tr>\n",
       "            <td>HK238408</td>\n",
       "        </tr>\n",
       "    </tbody>\n",
       "</table>"
      ],
      "text/plain": [
       "[('HL266884',), ('HK238408',)]"
      ]
     },
     "execution_count": 9,
     "metadata": {},
     "output_type": "execute_result"
    }
   ],
   "source": [
    "%%sql\n",
    "SELECT CASE_NUMBER\n",
    "FROM CRIME\n",
    "WHERE DESCRIPTION LIKE '%MINOR%';\n"
   ]
  },
  {
   "cell_type": "code",
   "execution_count": 10,
   "id": "68e25d3b-62be-4ba8-b214-7d58fd8cf1ab",
   "metadata": {},
   "outputs": [
    {
     "name": "stdout",
     "output_type": "stream",
     "text": [
      " * sqlite:///FinalDB.db\n",
      "Done.\n"
     ]
    },
    {
     "data": {
      "text/html": [
       "<table>\n",
       "    <thead>\n",
       "        <tr>\n",
       "            <th>ID</th>\n",
       "            <th>CASE_NUMBER</th>\n",
       "            <th>DATE</th>\n",
       "            <th>BLOCK</th>\n",
       "            <th>IUCR</th>\n",
       "            <th>PRIMARY_TYPE</th>\n",
       "            <th>DESCRIPTION</th>\n",
       "            <th>LOCATION_DESCRIPTION</th>\n",
       "            <th>ARREST</th>\n",
       "            <th>DOMESTIC</th>\n",
       "            <th>BEAT</th>\n",
       "            <th>DISTRICT</th>\n",
       "            <th>WARD</th>\n",
       "            <th>COMMUNITY_AREA_NUMBER</th>\n",
       "            <th>FBICODE</th>\n",
       "            <th>X_COORDINATE</th>\n",
       "            <th>Y_COORDINATE</th>\n",
       "            <th>YEAR</th>\n",
       "            <th>LATITUDE</th>\n",
       "            <th>LONGITUDE</th>\n",
       "            <th>LOCATION</th>\n",
       "        </tr>\n",
       "    </thead>\n",
       "    <tbody>\n",
       "        <tr>\n",
       "            <td>5276766</td>\n",
       "            <td>HN144152</td>\n",
       "            <td>2007-01-26</td>\n",
       "            <td>050XX W VAN BUREN ST</td>\n",
       "            <td>1792</td>\n",
       "            <td>KIDNAPPING</td>\n",
       "            <td>CHILD ABDUCTION/STRANGER</td>\n",
       "            <td>STREET</td>\n",
       "            <td>0</td>\n",
       "            <td>0</td>\n",
       "            <td>1533</td>\n",
       "            <td>15</td>\n",
       "            <td>29.0</td>\n",
       "            <td>25.0</td>\n",
       "            <td>20</td>\n",
       "            <td>1143050.0</td>\n",
       "            <td>1897546.0</td>\n",
       "            <td>2007</td>\n",
       "            <td>41.87490841</td>\n",
       "            <td>-87.75024931</td>\n",
       "            <td>(41.874908413, -87.750249307)</td>\n",
       "        </tr>\n",
       "    </tbody>\n",
       "</table>"
      ],
      "text/plain": [
       "[(5276766, 'HN144152', '2007-01-26', '050XX W VAN BUREN ST', '1792', 'KIDNAPPING', 'CHILD ABDUCTION/STRANGER', 'STREET', 0, 0, 1533, 15, 29.0, 25.0, '20', 1143050.0, 1897546.0, 2007, 41.87490841, -87.75024931, '(41.874908413, -87.750249307)')]"
      ]
     },
     "execution_count": 10,
     "metadata": {},
     "output_type": "execute_result"
    }
   ],
   "source": [
    "%%sql\n",
    "SELECT *\n",
    "FROM CRIME\n",
    "WHERE  PRIMARY_TYPE LIKE '%KIDNAPPING%' "
   ]
  },
  {
   "cell_type": "code",
   "execution_count": 11,
   "id": "4bdd58ed-3c7e-498a-9194-e5d097319002",
   "metadata": {},
   "outputs": [
    {
     "name": "stdout",
     "output_type": "stream",
     "text": [
      " * sqlite:///FinalDB.db\n",
      "Done.\n"
     ]
    },
    {
     "data": {
      "text/html": [
       "<table>\n",
       "    <thead>\n",
       "        <tr>\n",
       "            <th>ID</th>\n",
       "            <th>CASE_NUMBER</th>\n",
       "            <th>DATE</th>\n",
       "            <th>BLOCK</th>\n",
       "            <th>IUCR</th>\n",
       "            <th>PRIMARY_TYPE</th>\n",
       "            <th>DESCRIPTION</th>\n",
       "            <th>LOCATION_DESCRIPTION</th>\n",
       "            <th>ARREST</th>\n",
       "            <th>DOMESTIC</th>\n",
       "            <th>BEAT</th>\n",
       "            <th>DISTRICT</th>\n",
       "            <th>WARD</th>\n",
       "            <th>COMMUNITY_AREA_NUMBER</th>\n",
       "            <th>FBICODE</th>\n",
       "            <th>X_COORDINATE</th>\n",
       "            <th>Y_COORDINATE</th>\n",
       "            <th>YEAR</th>\n",
       "            <th>LATITUDE</th>\n",
       "            <th>LONGITUDE</th>\n",
       "            <th>LOCATION</th>\n",
       "        </tr>\n",
       "    </thead>\n",
       "    <tbody>\n",
       "        <tr>\n",
       "            <td>4006321</td>\n",
       "            <td>HL353697</td>\n",
       "            <td>2005-05-04</td>\n",
       "            <td>077XX S BURNHAM AVE</td>\n",
       "            <td>460</td>\n",
       "            <td>BATTERY</td>\n",
       "            <td>SIMPLE</td>\n",
       "            <td>SCHOOL, PUBLIC, GROUNDS</td>\n",
       "            <td>0</td>\n",
       "            <td>0</td>\n",
       "            <td>421</td>\n",
       "            <td>4</td>\n",
       "            <td>7.0</td>\n",
       "            <td>43.0</td>\n",
       "            <td>08B</td>\n",
       "            <td>1196066.0</td>\n",
       "            <td>1854156.0</td>\n",
       "            <td>2005</td>\n",
       "            <td>41.75469107</td>\n",
       "            <td>-87.55703869</td>\n",
       "            <td>(41.754691074, -87.557038686)</td>\n",
       "        </tr>\n",
       "        <tr>\n",
       "            <td>4430638</td>\n",
       "            <td>HL725506</td>\n",
       "            <td>2005-11-09</td>\n",
       "            <td>048XX N FRANCISCO AVE</td>\n",
       "            <td>484</td>\n",
       "            <td>BATTERY</td>\n",
       "            <td>PRO EMP HANDS NO/MIN INJURY</td>\n",
       "            <td>SCHOOL, PUBLIC, BUILDING</td>\n",
       "            <td>1</td>\n",
       "            <td>0</td>\n",
       "            <td>2031</td>\n",
       "            <td>20</td>\n",
       "            <td>40.0</td>\n",
       "            <td>4.0</td>\n",
       "            <td>08B</td>\n",
       "            <td>1156348.0</td>\n",
       "            <td>1932071.0</td>\n",
       "            <td>2005</td>\n",
       "            <td>41.96938944</td>\n",
       "            <td>-87.70048881</td>\n",
       "            <td>(41.96938944, -87.700488807)</td>\n",
       "        </tr>\n",
       "        <tr>\n",
       "            <td>6644618</td>\n",
       "            <td>HP716225</td>\n",
       "            <td>2008-12-04</td>\n",
       "            <td>030XX S DR MARTIN LUTHER KING JR DR</td>\n",
       "            <td>460</td>\n",
       "            <td>BATTERY</td>\n",
       "            <td>SIMPLE</td>\n",
       "            <td>SCHOOL, PUBLIC, BUILDING</td>\n",
       "            <td>0</td>\n",
       "            <td>0</td>\n",
       "            <td>2112</td>\n",
       "            <td>1</td>\n",
       "            <td>2.0</td>\n",
       "            <td>35.0</td>\n",
       "            <td>08B</td>\n",
       "            <td>1179306.0</td>\n",
       "            <td>1885032.0</td>\n",
       "            <td>2008</td>\n",
       "            <td>41.83981621</td>\n",
       "            <td>-87.61751617</td>\n",
       "            <td>(41.839816207, -87.617516172)</td>\n",
       "        </tr>\n",
       "        <tr>\n",
       "            <td>2341955</td>\n",
       "            <td>HH639427</td>\n",
       "            <td>2002-09-10</td>\n",
       "            <td>005XX N WALLER AVE</td>\n",
       "            <td>460</td>\n",
       "            <td>BATTERY</td>\n",
       "            <td>SIMPLE</td>\n",
       "            <td>SCHOOL, PUBLIC, BUILDING</td>\n",
       "            <td>0</td>\n",
       "            <td>0</td>\n",
       "            <td>1512</td>\n",
       "            <td>15</td>\n",
       "            <td>29.0</td>\n",
       "            <td>25.0</td>\n",
       "            <td>08B</td>\n",
       "            <td>1138238.0</td>\n",
       "            <td>1903181.0</td>\n",
       "            <td>2002</td>\n",
       "            <td>41.89045993</td>\n",
       "            <td>-87.76778089</td>\n",
       "            <td>(41.890459933, -87.767780886)</td>\n",
       "        </tr>\n",
       "        <tr>\n",
       "            <td>11110571</td>\n",
       "            <td>JA460432</td>\n",
       "            <td>2017-10-05</td>\n",
       "            <td>076XX S HOMAN AVE</td>\n",
       "            <td>460</td>\n",
       "            <td>BATTERY</td>\n",
       "            <td>SIMPLE</td>\n",
       "            <td>SCHOOL, PUBLIC, GROUNDS</td>\n",
       "            <td>0</td>\n",
       "            <td>0</td>\n",
       "            <td>835</td>\n",
       "            <td>8</td>\n",
       "            <td>18.0</td>\n",
       "            <td>70.0</td>\n",
       "            <td>08B</td>\n",
       "            <td>1155024.0</td>\n",
       "            <td>1853614.0</td>\n",
       "            <td>2017</td>\n",
       "            <td>41.75412154</td>\n",
       "            <td>-87.70746025</td>\n",
       "            <td>(41.754121535, -87.707460248)</td>\n",
       "        </tr>\n",
       "        <tr>\n",
       "            <td>7399281</td>\n",
       "            <td>HS200939</td>\n",
       "            <td>2010-03-10</td>\n",
       "            <td>053XX W CONGRESS PKWY</td>\n",
       "            <td>1320</td>\n",
       "            <td>CRIMINAL DAMAGE</td>\n",
       "            <td>TO VEHICLE</td>\n",
       "            <td>SCHOOL, PUBLIC, GROUNDS</td>\n",
       "            <td>0</td>\n",
       "            <td>0</td>\n",
       "            <td>1522</td>\n",
       "            <td>15</td>\n",
       "            <td>29.0</td>\n",
       "            <td>25.0</td>\n",
       "            <td>14</td>\n",
       "            <td>1140822.0</td>\n",
       "            <td>1897164.0</td>\n",
       "            <td>2010</td>\n",
       "            <td>41.8739014</td>\n",
       "            <td>-87.7584391</td>\n",
       "            <td>(41.873901397, -87.758439102)</td>\n",
       "        </tr>\n",
       "        <tr>\n",
       "            <td>3530721</td>\n",
       "            <td>HK577020</td>\n",
       "            <td>2004-08-23</td>\n",
       "            <td>016XX W JONQUIL TER</td>\n",
       "            <td>2024</td>\n",
       "            <td>NARCOTICS</td>\n",
       "            <td>POSS: HEROIN(WHITE)</td>\n",
       "            <td>SCHOOL, PUBLIC, GROUNDS</td>\n",
       "            <td>1</td>\n",
       "            <td>0</td>\n",
       "            <td>2422</td>\n",
       "            <td>24</td>\n",
       "            <td>49.0</td>\n",
       "            <td>1.0</td>\n",
       "            <td>18</td>\n",
       "            <td>1163893.0</td>\n",
       "            <td>1951001.0</td>\n",
       "            <td>2004</td>\n",
       "            <td>42.0211776</td>\n",
       "            <td>-87.67220843</td>\n",
       "            <td>(42.021177601, -87.67220843)</td>\n",
       "        </tr>\n",
       "        <tr>\n",
       "            <td>7502426</td>\n",
       "            <td>HS305355</td>\n",
       "            <td>2010-05-13</td>\n",
       "            <td>035XX S WASHTENAW AVE</td>\n",
       "            <td>1821</td>\n",
       "            <td>NARCOTICS</td>\n",
       "            <td>MANU/DEL:CANNABIS 10GM OR LESS</td>\n",
       "            <td>SCHOOL, PUBLIC, BUILDING</td>\n",
       "            <td>1</td>\n",
       "            <td>0</td>\n",
       "            <td>913</td>\n",
       "            <td>9</td>\n",
       "            <td>12.0</td>\n",
       "            <td>58.0</td>\n",
       "            <td>18</td>\n",
       "            <td>1158944.0</td>\n",
       "            <td>1880896.0</td>\n",
       "            <td>2010</td>\n",
       "            <td>41.82890791</td>\n",
       "            <td>-87.69234919</td>\n",
       "            <td>(41.828907913, -87.692349187)</td>\n",
       "        </tr>\n",
       "        <tr>\n",
       "            <td>8082600</td>\n",
       "            <td>HT315369</td>\n",
       "            <td>2011-05-26</td>\n",
       "            <td>032XX W ADAMS ST</td>\n",
       "            <td>545</td>\n",
       "            <td>ASSAULT</td>\n",
       "            <td>PRO EMP HANDS NO/MIN INJURY</td>\n",
       "            <td>SCHOOL, PUBLIC, GROUNDS</td>\n",
       "            <td>0</td>\n",
       "            <td>0</td>\n",
       "            <td>1124</td>\n",
       "            <td>11</td>\n",
       "            <td>28.0</td>\n",
       "            <td>27.0</td>\n",
       "            <td>08A</td>\n",
       "            <td>1154752.0</td>\n",
       "            <td>1898890.0</td>\n",
       "            <td>2011</td>\n",
       "            <td>41.87837031</td>\n",
       "            <td>-87.70724814</td>\n",
       "            <td>(41.878370307, -87.707248137)</td>\n",
       "        </tr>\n",
       "        <tr>\n",
       "            <td>7174283</td>\n",
       "            <td>HR585012</td>\n",
       "            <td>2009-10-13</td>\n",
       "            <td>043XX W 79TH ST</td>\n",
       "            <td>1330</td>\n",
       "            <td>CRIMINAL TRESPASS</td>\n",
       "            <td>TO LAND</td>\n",
       "            <td>SCHOOL, PUBLIC, GROUNDS</td>\n",
       "            <td>1</td>\n",
       "            <td>0</td>\n",
       "            <td>834</td>\n",
       "            <td>8</td>\n",
       "            <td>13.0</td>\n",
       "            <td>70.0</td>\n",
       "            <td>26</td>\n",
       "            <td>1148764.0</td>\n",
       "            <td>1851854.0</td>\n",
       "            <td>2009</td>\n",
       "            <td>41.74941446</td>\n",
       "            <td>-87.7304466</td>\n",
       "            <td>(41.749414464, -87.730446597)</td>\n",
       "        </tr>\n",
       "        <tr>\n",
       "            <td>2075734</td>\n",
       "            <td>HH292682</td>\n",
       "            <td>2002-04-05</td>\n",
       "            <td>016XX W BRYN MAWR AV</td>\n",
       "            <td>2850</td>\n",
       "            <td>PUBLIC PEACE VIOLATION</td>\n",
       "            <td>BOMB THREAT</td>\n",
       "            <td>SCHOOL, PRIVATE, BUILDING</td>\n",
       "            <td>0</td>\n",
       "            <td>0</td>\n",
       "            <td>2012</td>\n",
       "            <td>20</td>\n",
       "            <td>None</td>\n",
       "            <td>None</td>\n",
       "            <td>26</td>\n",
       "            <td>None</td>\n",
       "            <td>None</td>\n",
       "            <td>2002</td>\n",
       "            <td>None</td>\n",
       "            <td>None</td>\n",
       "            <td>None</td>\n",
       "        </tr>\n",
       "        <tr>\n",
       "            <td>1806896</td>\n",
       "            <td>G635735</td>\n",
       "            <td>2001-10-22</td>\n",
       "            <td>0000X N HERMITAGE AV</td>\n",
       "            <td>2850</td>\n",
       "            <td>PUBLIC PEACE VIOLATION</td>\n",
       "            <td>BOMB THREAT</td>\n",
       "            <td>SCHOOL, PUBLIC, BUILDING</td>\n",
       "            <td>1</td>\n",
       "            <td>0</td>\n",
       "            <td>1333</td>\n",
       "            <td>12</td>\n",
       "            <td>None</td>\n",
       "            <td>None</td>\n",
       "            <td>26</td>\n",
       "            <td>1164687.0</td>\n",
       "            <td>1900646.0</td>\n",
       "            <td>2001</td>\n",
       "            <td>41.88298425</td>\n",
       "            <td>-87.67071922</td>\n",
       "            <td>(41.882984246, -87.670719218)</td>\n",
       "        </tr>\n",
       "    </tbody>\n",
       "</table>"
      ],
      "text/plain": [
       "[(4006321, 'HL353697', '2005-05-04', '077XX S BURNHAM AVE', '460', 'BATTERY', 'SIMPLE', 'SCHOOL, PUBLIC, GROUNDS', 0, 0, 421, 4, 7.0, 43.0, '08B', 1196066.0, 1854156.0, 2005, 41.75469107, -87.55703869, '(41.754691074, -87.557038686)'),\n",
       " (4430638, 'HL725506', '2005-11-09', '048XX N FRANCISCO AVE', '484', 'BATTERY', 'PRO EMP HANDS NO/MIN INJURY', 'SCHOOL, PUBLIC, BUILDING', 1, 0, 2031, 20, 40.0, 4.0, '08B', 1156348.0, 1932071.0, 2005, 41.96938944, -87.70048881, '(41.96938944, -87.700488807)'),\n",
       " (6644618, 'HP716225', '2008-12-04', '030XX S DR MARTIN LUTHER KING JR DR', '460', 'BATTERY', 'SIMPLE', 'SCHOOL, PUBLIC, BUILDING', 0, 0, 2112, 1, 2.0, 35.0, '08B', 1179306.0, 1885032.0, 2008, 41.83981621, -87.61751617, '(41.839816207, -87.617516172)'),\n",
       " (2341955, 'HH639427', '2002-09-10', '005XX N WALLER AVE', '460', 'BATTERY', 'SIMPLE', 'SCHOOL, PUBLIC, BUILDING', 0, 0, 1512, 15, 29.0, 25.0, '08B', 1138238.0, 1903181.0, 2002, 41.89045993, -87.76778089, '(41.890459933, -87.767780886)'),\n",
       " (11110571, 'JA460432', '2017-10-05', '076XX S HOMAN AVE', '460', 'BATTERY', 'SIMPLE', 'SCHOOL, PUBLIC, GROUNDS', 0, 0, 835, 8, 18.0, 70.0, '08B', 1155024.0, 1853614.0, 2017, 41.75412154, -87.70746025, '(41.754121535, -87.707460248)'),\n",
       " (7399281, 'HS200939', '2010-03-10', '053XX W CONGRESS PKWY', '1320', 'CRIMINAL DAMAGE', 'TO VEHICLE', 'SCHOOL, PUBLIC, GROUNDS', 0, 0, 1522, 15, 29.0, 25.0, '14', 1140822.0, 1897164.0, 2010, 41.8739014, -87.7584391, '(41.873901397, -87.758439102)'),\n",
       " (3530721, 'HK577020', '2004-08-23', '016XX W JONQUIL TER', '2024', 'NARCOTICS', 'POSS: HEROIN(WHITE)', 'SCHOOL, PUBLIC, GROUNDS', 1, 0, 2422, 24, 49.0, 1.0, '18', 1163893.0, 1951001.0, 2004, 42.0211776, -87.67220843, '(42.021177601, -87.67220843)'),\n",
       " (7502426, 'HS305355', '2010-05-13', '035XX S WASHTENAW AVE', '1821', 'NARCOTICS', 'MANU/DEL:CANNABIS 10GM OR LESS', 'SCHOOL, PUBLIC, BUILDING', 1, 0, 913, 9, 12.0, 58.0, '18', 1158944.0, 1880896.0, 2010, 41.82890791, -87.69234919, '(41.828907913, -87.692349187)'),\n",
       " (8082600, 'HT315369', '2011-05-26', '032XX W ADAMS ST', '545', 'ASSAULT', 'PRO EMP HANDS NO/MIN INJURY', 'SCHOOL, PUBLIC, GROUNDS', 0, 0, 1124, 11, 28.0, 27.0, '08A', 1154752.0, 1898890.0, 2011, 41.87837031, -87.70724814, '(41.878370307, -87.707248137)'),\n",
       " (7174283, 'HR585012', '2009-10-13', '043XX W 79TH ST', '1330', 'CRIMINAL TRESPASS', 'TO LAND', 'SCHOOL, PUBLIC, GROUNDS', 1, 0, 834, 8, 13.0, 70.0, '26', 1148764.0, 1851854.0, 2009, 41.74941446, -87.7304466, '(41.749414464, -87.730446597)'),\n",
       " (2075734, 'HH292682', '2002-04-05', '016XX W BRYN MAWR AV', '2850', 'PUBLIC PEACE VIOLATION', 'BOMB THREAT', 'SCHOOL, PRIVATE, BUILDING', 0, 0, 2012, 20, None, None, '26', None, None, 2002, None, None, None),\n",
       " (1806896, 'G635735', '2001-10-22', '0000X N HERMITAGE AV', '2850', 'PUBLIC PEACE VIOLATION', 'BOMB THREAT', 'SCHOOL, PUBLIC, BUILDING', 1, 0, 1333, 12, None, None, '26', 1164687.0, 1900646.0, 2001, 41.88298425, -87.67071922, '(41.882984246, -87.670719218)')]"
      ]
     },
     "execution_count": 11,
     "metadata": {},
     "output_type": "execute_result"
    }
   ],
   "source": [
    "%%sql \n",
    "select * from crime \n",
    "where LOCATION_DESCRIPTION LIKE '%SCHOOL%'"
   ]
  },
  {
   "cell_type": "code",
   "execution_count": 12,
   "id": "ad1b170d-8536-4bc5-b95b-310ce9a7fe1c",
   "metadata": {},
   "outputs": [
    {
     "name": "stdout",
     "output_type": "stream",
     "text": [
      " * sqlite:///FinalDB.db\n",
      "Done.\n"
     ]
    },
    {
     "data": {
      "text/html": [
       "<table>\n",
       "    <thead>\n",
       "        <tr>\n",
       "            <th>AVG(SAFETY_SCORE)</th>\n",
       "            <th>Safety_Icon</th>\n",
       "        </tr>\n",
       "    </thead>\n",
       "    <tbody>\n",
       "        <tr>\n",
       "            <td>49.125</td>\n",
       "            <td>Average</td>\n",
       "        </tr>\n",
       "        <tr>\n",
       "            <td>None</td>\n",
       "            <td>NDA</td>\n",
       "        </tr>\n",
       "        <tr>\n",
       "            <td>67.21</td>\n",
       "            <td>Strong</td>\n",
       "        </tr>\n",
       "        <tr>\n",
       "            <td>92.68181818181819</td>\n",
       "            <td>Very Strong</td>\n",
       "        </tr>\n",
       "        <tr>\n",
       "            <td>14.136363636363637</td>\n",
       "            <td>Very Weak</td>\n",
       "        </tr>\n",
       "        <tr>\n",
       "            <td>31.316129032258065</td>\n",
       "            <td>Weak</td>\n",
       "        </tr>\n",
       "    </tbody>\n",
       "</table>"
      ],
      "text/plain": [
       "[(49.125, 'Average'),\n",
       " (None, 'NDA'),\n",
       " (67.21, 'Strong'),\n",
       " (92.68181818181819, 'Very Strong'),\n",
       " (14.136363636363637, 'Very Weak'),\n",
       " (31.316129032258065, 'Weak')]"
      ]
     },
     "execution_count": 12,
     "metadata": {},
     "output_type": "execute_result"
    }
   ],
   "source": [
    "%%sql \n",
    "SELECT AVG(SAFETY_SCORE), Safety_Icon FROM SCHOOLS \n",
    "GROUP BY Safety_Icon;\n"
   ]
  },
  {
   "cell_type": "code",
   "execution_count": 13,
   "id": "d89e667a-216f-486c-8ccb-24abdd1629e0",
   "metadata": {},
   "outputs": [
    {
     "name": "stdout",
     "output_type": "stream",
     "text": [
      " * sqlite:///FinalDB.db\n",
      "Done.\n"
     ]
    },
    {
     "data": {
      "text/html": [
       "<table>\n",
       "    <thead>\n",
       "        <tr>\n",
       "            <th>community</th>\n",
       "        </tr>\n",
       "    </thead>\n",
       "    <tbody>\n",
       "        <tr>\n",
       "            <td>Riverdale</td>\n",
       "        </tr>\n",
       "        <tr>\n",
       "            <td>Fuller Park</td>\n",
       "        </tr>\n",
       "        <tr>\n",
       "            <td>Englewood</td>\n",
       "        </tr>\n",
       "        <tr>\n",
       "            <td>North Lawndale</td>\n",
       "        </tr>\n",
       "        <tr>\n",
       "            <td>East Garfield Park</td>\n",
       "        </tr>\n",
       "    </tbody>\n",
       "</table>"
      ],
      "text/plain": [
       "[('Riverdale',),\n",
       " ('Fuller Park',),\n",
       " ('Englewood',),\n",
       " ('North Lawndale',),\n",
       " ('East Garfield Park',)]"
      ]
     },
     "execution_count": 13,
     "metadata": {},
     "output_type": "execute_result"
    }
   ],
   "source": [
    "%%sql\n",
    "select COMMUNITY_AREA_NAME as community from CENSUS_DATA\n",
    "order by PERCENT_HOUSEHOLDS_BELOW_POVERTY desc limit 5;"
   ]
  },
  {
   "cell_type": "code",
   "execution_count": 14,
   "id": "d7401d52-0773-46a6-8c49-2da2c14c5885",
   "metadata": {},
   "outputs": [
    {
     "name": "stdout",
     "output_type": "stream",
     "text": [
      " * sqlite:///FinalDB.db\n",
      "(sqlite3.OperationalError) incomplete input\n",
      "[SQL: select * from]\n",
      "(Background on this error at: https://sqlalche.me/e/20/e3q8)\n"
     ]
    }
   ],
   "source": [
    "%%sql\n",
    "select * from "
   ]
  },
  {
   "cell_type": "markdown",
   "id": "d98c3b89-c7da-4afb-837e-77a5d16a30ab",
   "metadata": {},
   "source": [
    "\n",
    "Double-click **here** for a hint\n",
    "\n",
    "<!--\n",
    "Query for the 'community area number' that has most number of incidents\n",
    "-->\n"
   ]
  },
  {
   "cell_type": "code",
   "execution_count": 15,
   "id": "47ee236d-c67e-42b5-8f26-224cef871f7a",
   "metadata": {},
   "outputs": [
    {
     "name": "stdout",
     "output_type": "stream",
     "text": [
      " * sqlite:///FinalDB.db\n",
      "(sqlite3.OperationalError) no such table: COMMUNITY_AREAS\n",
      "[SQL: SELECT COMMUNITY_AREA_NAME\n",
      "FROM COMMUNITY_AREAS\n",
      "WHERE HARDSHIP_INDEX = (\n",
      "    SELECT MAX(HARDSHIP_INDEX) FROM COMMUNITY_AREAS\n",
      ");]\n",
      "(Background on this error at: https://sqlalche.me/e/20/e3q8)\n"
     ]
    }
   ],
   "source": [
    "%%sql\n",
    "SELECT COMMUNITY_AREA_NAME\n",
    "FROM COMMUNITY_AREAS\n",
    "WHERE HARDSHIP_INDEX = (\n",
    "    SELECT MAX(HARDSHIP_INDEX) FROM COMMUNITY_AREAS\n",
    ");"
   ]
  },
  {
   "cell_type": "code",
   "execution_count": null,
   "metadata": {},
   "outputs": [
    {
     "name": "stderr",
     "output_type": "stream",
     "text": [
      "C:\\Users\\abiye\\AppData\\Local\\Temp\\ipykernel_9792\\2650356989.py:11: FutureWarning: \n",
      "\n",
      "Passing `palette` without assigning `hue` is deprecated and will be removed in v0.14.0. Assign the `y` variable to `hue` and set `legend=False` for the same effect.\n",
      "\n",
      "  sns.barplot(x='count', y='PRIMARY_TYPE', data=crime_types, palette=\"Blues_d\")\n"
     ]
    },
    {
     "data": {
      "image/png": "[encoded data removed]",
      "text/plain": [
       "<Figure size 1200x600 with 1 Axes>"
      ]
     },
     "metadata": {},
     "output_type": "display_data"
    }
   ],
   "source": [
    "crime_types = pd.read_sql(\"\"\"\n",
    "    SELECT PRIMARY_TYPE, COUNT(*) as count \n",
    "    FROM CRIME \n",
    "    GROUP BY PRIMARY_TYPE \n",
    "    ORDER BY count DESC\n",
    "    LIMIT 10\n",
    "\"\"\", conn)\n",
    "plt.figure(figsize=(12, 6))\n",
    "sns.barplot(x='count', y='PRIMARY_TYPE', data=crime_types, palette=\"Blues_d\")\n",
    "plt.title('Top 10 Most Common Crime Types in Chicago', fontsize=16)\n",
    "plt.xlabel('Number of Incidents', fontsize=12)\n",
    "plt.ylabel('Crime Type', fontsize=12)\n",
    "plt.tight_layout()\n",
    "plt.savefig('crime_types.png', dpi=300)\n",
    "plt.show()"
   ]
  },
  {
   "cell_type": "code",
   "execution_count": 24,
   "metadata": {},
   "outputs": [
    {
     "name": "stderr",
     "output_type": "stream",
     "text": [
      "C:\\Users\\abiye\\AppData\\Local\\Temp\\ipykernel_9792\\2248568648.py:9: FutureWarning: \n",
      "\n",
      "Passing `palette` without assigning `hue` is deprecated and will be removed in v0.14.0. Assign the `y` variable to `hue` and set `legend=False` for the same effect.\n",
      "\n",
      "  sns.barplot(x='P', y='C',\n"
     ]
    },
    {
     "data": {
      "image/png": "[encoded data removed]",
      "text/plain": [
       "<Figure size 1200x600 with 1 Axes>"
      ]
     },
     "metadata": {},
     "output_type": "display_data"
    }
   ],
   "source": [
    "poverty_data = pd.read_sql(\"\"\"\n",
    "    SELECT COMMUNITY_AREA_NAME AS C, PERCENT_HOUSEHOLDS_BELOW_POVERTY AS P\n",
    "    FROM CENSUS_DATA\n",
    "    ORDER BY PERCENT_HOUSEHOLDS_BELOW_POVERTY DESC\n",
    "    LIMIT 10\n",
    "\"\"\", conn)\n",
    "\n",
    "plt.figure(figsize=(12, 6))\n",
    "sns.barplot(x='P', y='C', \n",
    "            data=poverty_data, palette=\"Reds_d\")\n",
    "plt.title('Top10 Communities by Poverty Rate', fontsize=16)\n",
    "plt.xlabel('Percentage of Households Below Poverty Line', fontsize=12)\n",
    "plt.ylabel('Community Area', fontsize=12)\n",
    "plt.tight_layout()\n",
    "plt.savefig('poverty_distribution.png', dpi=300)\n",
    "plt.show()"
   ]
  },
  {
   "cell_type": "markdown",
   "metadata": {},
   "source": [
    "## Findings\n",
    "- Communities with incomes < $11k: Riverdale ($8,201), Fuller Park ($10,432)\n",
    "- Highest poverty areas: Riverdale, Fuller Park, Englewood\n",
    "- Most common crime at schools: Battery"
   ]
  },
  {
   "cell_type": "markdown",
   "metadata": {},
   "source": [
    "## Summary\n",
    "This analysis reveals strong correlations between economic hardship indicators and crime frequency, with schools in low-income areas showing higher safety concerns."
   ]
  },
  {
   "cell_type": "markdown",
   "metadata": {},
   "source": [
    "## Data Sources\n",
    "- City of Chicago Data Portal\n",
    "- Chicago Public Schools\n",
    "- Chicago Crime Database"
   ]
  }
 ],
 "metadata": {
  "kernelspec": {
   "display_name": "Python (ibm_env)",
   "language": "python",
   "name": "ibm_env"
  },
  "language_info": {
   "codemirror_mode": {
    "name": "ipython",
    "version": 3
   },
   "file_extension": ".py",
   "mimetype": "text/x-python",
   "name": "python",
   "nbconvert_exporter": "python",
   "pygments_lexer": "ipython3",
   "version": "3.13.1"
  },
  "prev_pub_hash": "0f6ab15179bab019c866c3606fd94e4869170600ea14eaf9be65281f4517d0e2"
 },
 "nbformat": 4,
 "nbformat_minor": 4
}
